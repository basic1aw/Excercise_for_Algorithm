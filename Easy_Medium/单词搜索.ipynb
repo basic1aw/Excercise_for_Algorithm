{
 "cells": [
  {
   "cell_type": "code",
   "execution_count": 1,
   "metadata": {},
   "outputs": [
    {
     "data": {
      "text/plain": [
       "True"
      ]
     },
     "execution_count": 1,
     "metadata": {},
     "output_type": "execute_result"
    }
   ],
   "source": [
    "# 利用字典来存储各个字母出现的次数\n",
    "\n",
    "def find(board,word):\n",
    "    m = len(board)\n",
    "    n = len(board[0])\n",
    "    count = dict()\n",
    "    for i in range(m):\n",
    "        for j in range(n):\n",
    "            count[board[i][j]] = count.get(board[i][j],0) + 1\n",
    "    count_wd = dict()\n",
    "    for i in word:\n",
    "        count_wd[i] = count_wd.get(i,0) + 1\n",
    "\n",
    "    for char in count_wd.keys():\n",
    "        if char in count.keys() and count_wd[char] <= count[char]:\n",
    "            pass\n",
    "        else:\n",
    "            return False\n",
    "        \n",
    "    return True\n",
    "\n",
    "a = [[\"a\",\"b\"],[\"c\",\"d\"]]\n",
    "b = \"abcd\"\n",
    "find(a,b)"
   ]
  }
 ],
 "metadata": {
  "kernelspec": {
   "display_name": "Python 3",
   "language": "python",
   "name": "python3"
  },
  "language_info": {
   "codemirror_mode": {
    "name": "ipython",
    "version": 3
   },
   "file_extension": ".py",
   "mimetype": "text/x-python",
   "name": "python",
   "nbconvert_exporter": "python",
   "pygments_lexer": "ipython3",
   "version": "3.7.3"
  }
 },
 "nbformat": 4,
 "nbformat_minor": 2
}
