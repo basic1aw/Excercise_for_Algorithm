{
 "cells": [
  {
   "cell_type": "code",
   "execution_count": 15,
   "metadata": {},
   "outputs": [
    {
     "name": "stdout",
     "output_type": "stream",
     "text": [
      "1 1\n",
      "2 2\n",
      "3 3\n"
     ]
    },
    {
     "data": {
      "text/plain": [
       "'abba'"
      ]
     },
     "execution_count": 15,
     "metadata": {},
     "output_type": "execute_result"
    }
   ],
   "source": [
    "\n",
    "def longest(s):\n",
    "    n = len(s)\n",
    "    if n <= 1:\n",
    "        return s\n",
    "    max_len = 0\n",
    "    idx = [0,1]\n",
    "    for i in range(1,n):\n",
    "        l_even = i - 1\n",
    "        r_even = i\n",
    "        while l_even >= 0 and r_even < n:\n",
    "            if s[l_even] == s[r_even]:\n",
    "                l_even -= 1\n",
    "                r_even += 1\n",
    "            else:\n",
    "                break\n",
    "        l_even += 1\n",
    "        r_even -= 1\n",
    "        \n",
    "        \n",
    "        l_odd = i\n",
    "        r_odd = i\n",
    "        while l_odd >= 0 and r_odd < n:\n",
    "            if s[l_odd] == s[r_odd]:\n",
    "                l_odd -= 1\n",
    "                r_odd += 1\n",
    "            else:\n",
    "                break\n",
    "        l_odd += 1\n",
    "        r_odd -= 1\n",
    "\n",
    "        if (r_even - l_even) > (r_odd - l_odd):\n",
    "            if r_even - l_even > max_len:\n",
    "                max_len = r_even - l_even\n",
    "                idx = [l_even, r_even+1]\n",
    "        else:\n",
    "            if r_odd + 1 - l_odd > max_len:\n",
    "                max_len = r_odd - l_odd + 1\n",
    "                idx = [l_odd,r_odd+1]\n",
    "    \n",
    "    return s[idx[0]:idx[1]]\n",
    "\n",
    "s = 'abba'\n",
    "longest(s)"
   ]
  }
 ],
 "metadata": {
  "kernelspec": {
   "display_name": "Python 3",
   "language": "python",
   "name": "python3"
  },
  "language_info": {
   "codemirror_mode": {
    "name": "ipython",
    "version": 3
   },
   "file_extension": ".py",
   "mimetype": "text/x-python",
   "name": "python",
   "nbconvert_exporter": "python",
   "pygments_lexer": "ipython3",
   "version": "3.7.3"
  }
 },
 "nbformat": 4,
 "nbformat_minor": 2
}
