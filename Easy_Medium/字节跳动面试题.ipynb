{
 "cells": [
  {
   "cell_type": "code",
   "execution_count": 11,
   "metadata": {},
   "outputs": [
    {
     "name": "stdout",
     "output_type": "stream",
     "text": [
      "cn/com.bytedance.www\n",
      "！ ByteDance love I\n",
      "! me and you\n"
     ]
    }
   ],
   "source": [
    "# 输入www.bytedance.com/cn,翻转成cn/com.bytedance.www\n",
    "a = r'www.bytedance.com/cn'\n",
    "def solution(a):\n",
    "    queue = []\n",
    "    tmp =''\n",
    "    for i in a:\n",
    "        if i.isalpha():\n",
    "            tmp += i\n",
    "        else:\n",
    "            queue.append(tmp)\n",
    "            tmp = ''\n",
    "            queue.append(i)\n",
    "    queue.append(tmp)\n",
    "    res = ''\n",
    "    while queue != []:\n",
    "        res += queue.pop()\n",
    "\n",
    "    print(res)\n",
    "solution(a)\n",
    "b = \"I love ByteDance ！\"\n",
    "solution(b)\n",
    "c = 'you and me !'\n",
    "solution(c)"
   ]
  }
 ],
 "metadata": {
  "kernelspec": {
   "display_name": "Python 3",
   "language": "python",
   "name": "python3"
  },
  "language_info": {
   "codemirror_mode": {
    "name": "ipython",
    "version": 3
   },
   "file_extension": ".py",
   "mimetype": "text/x-python",
   "name": "python",
   "nbconvert_exporter": "python",
   "pygments_lexer": "ipython3",
   "version": "3.7.3"
  }
 },
 "nbformat": 4,
 "nbformat_minor": 2
}
