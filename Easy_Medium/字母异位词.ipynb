{
 "cells": [
  {
   "cell_type": "code",
   "execution_count": 8,
   "metadata": {},
   "outputs": [
    {
     "name": "stdout",
     "output_type": "stream",
     "text": [
      "dict_values([['eat', 'tea', 'ate'], ['tan', 'nat'], ['bat']])\n"
     ]
    }
   ],
   "source": [
    "def group(strs):\n",
    "    ans = dict()\n",
    "    for item in strs:\n",
    "        count = [0] * 26\n",
    "        for c in item:\n",
    "            count[ord(c) - ord('a')] += 1\n",
    "        ans[tuple(count)] = ans.get(tuple(count),[]) + [item]\n",
    "        # 转换为 tuple 等不可变数据类型 才能作为 key\n",
    "    return list(ans.values()) # 必须转为list类型，因为 ans.values()只是可迭代对象\n",
    "\n",
    "a = [\"eat\", \"tea\", \"tan\", \"ate\", \"nat\", \"bat\"]\n",
    "group(a)\n",
    "b = dict()\n"
   ]
  }
 ],
 "metadata": {
  "kernelspec": {
   "display_name": "Python 3",
   "language": "python",
   "name": "python3"
  },
  "language_info": {
   "codemirror_mode": {
    "name": "ipython",
    "version": 3
   },
   "file_extension": ".py",
   "mimetype": "text/x-python",
   "name": "python",
   "nbconvert_exporter": "python",
   "pygments_lexer": "ipython3",
   "version": "3.7.3"
  }
 },
 "nbformat": 4,
 "nbformat_minor": 2
}
