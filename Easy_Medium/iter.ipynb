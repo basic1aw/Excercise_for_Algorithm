{
 "cells": [
  {
   "cell_type": "code",
   "execution_count": 19,
   "metadata": {},
   "outputs": [
    {
     "name": "stdout",
     "output_type": "stream",
     "text": [
      "10\n",
      "11\n",
      "12\n",
      "13\n",
      "14\n",
      "15\n",
      "16\n",
      "17\n",
      "18\n",
      "19\n"
     ]
    }
   ],
   "source": [
    "\"\"\"\n",
    "创建一个迭代器对象，__iter__()方法是创建一个迭代器，\n",
    "__next__()是生成下一个迭代器\n",
    "\"\"\"\n",
    "\n",
    "class myiter:\n",
    "    \n",
    "    def __init__(self,start):\n",
    "        self.a = start\n",
    "\n",
    "    def __iter__(self):\n",
    "        return self\n",
    "        # 返回 self，即myiter这个对象，这个对象实现了next方法，因此可以不断遍历\n",
    "\n",
    "    def __next__(self):\n",
    "        if self.a < 20:\n",
    "            x = self.a\n",
    "            self.a += 1\n",
    "            return x\n",
    "\n",
    "        else:\n",
    "            raise StopIteration\n",
    "            # StopIteration 异常用于标识迭代的完成，防止无限循环\n",
    "\n",
    "# m = myiter(10)\n",
    "# example = iter(m)\n",
    "# for i in example:\n",
    "#     print(i)\n",
    "\n",
    "class newlist:\n",
    "\n",
    "    def __init__(self,data):\n",
    "        self.arr = data\n",
    "        self.idx = 0\n",
    "\n",
    "    def __iter__(self):\n",
    "        return self\n",
    "\n",
    "    def __next__(self):\n",
    "        try:\n",
    "            element = self.arr[self.idx]\n",
    "            self.idx += 1\n",
    "            return element\n",
    "        except:\n",
    "            raise StopIteration\n",
    "            \n",
    "lst = newlist([3,4,5,6,7,8])\n",
    "# mylist = iter(lst)\n",
    "# next(mylist)\n",
    "# next(mylist)\n",
    "# for i in mylist:\n",
    "#     print(i)\n",
    "n = myiter(10)\n",
    "for i in n:\n",
    "    print(i)"
   ]
  },
  {
   "cell_type": "code",
   "execution_count": 41,
   "metadata": {},
   "outputs": [
    {
     "name": "stdout",
     "output_type": "stream",
     "text": [
      "0 1 1 2 3 5 8 13 21 34 "
     ]
    },
    {
     "ename": "TypeError",
     "evalue": "'newiter' object is not iterable",
     "output_type": "error",
     "traceback": [
      "\u001b[1;31m---------------------------------------------------------------------------\u001b[0m",
      "\u001b[1;31mTypeError\u001b[0m                                 Traceback (most recent call last)",
      "\u001b[1;32m<ipython-input-41-6693d5919fc9>\u001b[0m in \u001b[0;36m<module>\u001b[1;34m\u001b[0m\n\u001b[0;32m     30\u001b[0m \u001b[1;33m\u001b[0m\u001b[0m\n\u001b[0;32m     31\u001b[0m \u001b[0mmyiter\u001b[0m \u001b[1;33m=\u001b[0m \u001b[0mnewiter\u001b[0m\u001b[1;33m(\u001b[0m\u001b[1;36m10\u001b[0m\u001b[1;33m,\u001b[0m\u001b[1;36m20\u001b[0m\u001b[1;33m)\u001b[0m\u001b[1;33m\u001b[0m\u001b[1;33m\u001b[0m\u001b[0m\n\u001b[1;32m---> 32\u001b[1;33m \u001b[1;32mfor\u001b[0m \u001b[0mi\u001b[0m \u001b[1;32min\u001b[0m \u001b[0mmyiter\u001b[0m\u001b[1;33m:\u001b[0m\u001b[1;33m\u001b[0m\u001b[1;33m\u001b[0m\u001b[0m\n\u001b[0m\u001b[0;32m     33\u001b[0m     \u001b[0mprint\u001b[0m\u001b[1;33m(\u001b[0m\u001b[0mi\u001b[0m\u001b[1;33m)\u001b[0m\u001b[1;33m\u001b[0m\u001b[1;33m\u001b[0m\u001b[0m\n",
      "\u001b[1;31mTypeError\u001b[0m: 'newiter' object is not iterable"
     ]
    }
   ],
   "source": [
    "def fab(max):\n",
    "    n = 0\n",
    "    a = 0\n",
    "    b = 1\n",
    "    while n < max:\n",
    "        yield a\n",
    "        a, b = b, a+b\n",
    "        n += 1\n",
    "# python编译器自动将fab()函数识别为生成器，每次在yield函数位置暂停，并保存运行信息。\n",
    "a = fab(10)\n",
    "for i in fab(10):\n",
    "    print(i,end=\" \")\n",
    "next(a),next(a),next(a),next(a)\n",
    "\n",
    "class newiter:\n",
    "    \n",
    "    def __init__(self,start,end):\n",
    "        self.a = start\n",
    "        self.b = end\n",
    "    \n",
    "#     def __iter__(self):\n",
    "#         return self\n",
    "    \n",
    "    def __next__(self):\n",
    "        while self.a < self.b:\n",
    "            x = self.a\n",
    "            self.a += 1\n",
    "            return x\n",
    "        raise StopIteration\n",
    "    \n",
    "myiter = newiter(10,20)\n",
    "for i in myiter:\n",
    "    print(i)"
   ]
  }
 ],
 "metadata": {
  "kernelspec": {
   "display_name": "Python 3",
   "language": "python",
   "name": "python3"
  },
  "language_info": {
   "codemirror_mode": {
    "name": "ipython",
    "version": 3
   },
   "file_extension": ".py",
   "mimetype": "text/x-python",
   "name": "python",
   "nbconvert_exporter": "python",
   "pygments_lexer": "ipython3",
   "version": "3.7.3"
  }
 },
 "nbformat": 4,
 "nbformat_minor": 2
}
