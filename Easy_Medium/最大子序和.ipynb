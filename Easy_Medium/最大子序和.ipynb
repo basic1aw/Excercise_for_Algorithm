{
 "cells": [
  {
   "cell_type": "code",
   "execution_count": 2,
   "metadata": {},
   "outputs": [
    {
     "data": {
      "text/plain": [
       "6"
      ]
     },
     "execution_count": 2,
     "metadata": {},
     "output_type": "execute_result"
    }
   ],
   "source": [
    "def maxsub(nums):\n",
    "    ans = nums[0]\n",
    "    for i in range(len(nums)):\n",
    "        agg = nums[i]\n",
    "        m = nums[i]\n",
    "        j = i\n",
    "        while j < len(nums)-1:\n",
    "            j += 1\n",
    "            agg += nums[j]\n",
    "            if agg > m:\n",
    "                m = agg\n",
    "        if m > ans:\n",
    "            ans = m\n",
    "    return ans\n",
    "\n",
    "a = [-2,1,-3,4,-1,2,1,-5,4]\n",
    "maxsub(a)\n",
    "\n",
    "def maxsub2(nums):\n",
    "    tmp = nums[0]\n",
    "    max_ = nums[0]\n",
    "    \n",
    "    for i in range(1,len(nums)):\n",
    "        if tmp + nums[i] > nums[i]: \n",
    "            # 如果加上这个于元素后比这个元素大，则表示最大值在后面\n",
    "            tmp += nums[i]\n",
    "            \n",
    "        else:\n",
    "            tmp = nums[i]\n",
    "        \n",
    "        if tmp > max_:\n",
    "            max_ = tmp\n",
    "        \n",
    "    return max_\n",
    "\n",
    "maxsub2(a)\n"
   ]
  },
  {
   "cell_type": "code",
   "execution_count": 36,
   "metadata": {},
   "outputs": [
    {
     "ename": "TypeError",
     "evalue": "unhashable type: 'list'",
     "output_type": "error",
     "traceback": [
      "\u001b[1;31m---------------------------------------------------------------------------\u001b[0m",
      "\u001b[1;31mTypeError\u001b[0m                                 Traceback (most recent call last)",
      "\u001b[1;32m<ipython-input-36-2cd0606d9420>\u001b[0m in \u001b[0;36m<module>\u001b[1;34m\u001b[0m\n\u001b[0;32m     31\u001b[0m \u001b[1;33m\u001b[0m\u001b[0m\n\u001b[0;32m     32\u001b[0m \u001b[0mb\u001b[0m \u001b[1;33m=\u001b[0m \u001b[1;33m[\u001b[0m\u001b[1;33m[\u001b[0m\u001b[1;36m1\u001b[0m\u001b[1;33m,\u001b[0m\u001b[1;36m4\u001b[0m\u001b[1;33m]\u001b[0m\u001b[1;33m,\u001b[0m\u001b[1;33m[\u001b[0m\u001b[1;36m1\u001b[0m\u001b[1;33m,\u001b[0m\u001b[1;36m4\u001b[0m\u001b[1;33m]\u001b[0m\u001b[1;33m]\u001b[0m\u001b[1;33m\u001b[0m\u001b[1;33m\u001b[0m\u001b[0m\n\u001b[1;32m---> 33\u001b[1;33m \u001b[0mc\u001b[0m \u001b[1;33m=\u001b[0m \u001b[1;33m{\u001b[0m\u001b[1;33m[\u001b[0m\u001b[1;36m1\u001b[0m\u001b[1;33m,\u001b[0m\u001b[1;36m3\u001b[0m\u001b[1;33m]\u001b[0m\u001b[1;33m,\u001b[0m\u001b[1;33m[\u001b[0m\u001b[1;36m3\u001b[0m\u001b[1;33m,\u001b[0m\u001b[1;36m5\u001b[0m\u001b[1;33m]\u001b[0m\u001b[1;33m}\u001b[0m\u001b[1;33m\u001b[0m\u001b[1;33m\u001b[0m\u001b[0m\n\u001b[0m",
      "\u001b[1;31mTypeError\u001b[0m: unhashable type: 'list'"
     ]
    }
   ],
   "source": [
    "def merge(intervals):\n",
    "    new = []\n",
    "    n = len(intervals)\n",
    "    pop_list = []\n",
    "    intervals.sort()\n",
    "    for i in range(n):\n",
    "        tmp1 = intervals[i]\n",
    "        flag = False\n",
    "        for j in range(i+1,n):\n",
    "            if tmp1[1] >= intervals[j][0]:\n",
    "                tmp2 = [min(intervals[i][0],intervals[j][0]),max(intervals[i][1],intervals[j][1])]\n",
    "                new.append(tmp2)\n",
    "                tmp1 = tmp2\n",
    "                if intervals[j] not in pop_list:\n",
    "                    pop_list.append(intervals[j])\n",
    "                flag = True\n",
    "        if flag == True:\n",
    "            if intervals[i] not in pop_list:\n",
    "                pop_list.append(intervals[i])\n",
    "\n",
    "#     for i in pop_list:\n",
    "#         intervals.remove(i)\n",
    "        # 使用remove 直接去掉相应元素，用pop根据索引的话由于列表长度变化不可行\n",
    "\n",
    "    new += intervals\n",
    "    \n",
    "    return pop_list\n",
    "\n",
    "a = [[1,4],[0,2],[3,5]]\n",
    "merge(a)\n",
    "\n",
    "b = [[1,4],[1,4]]\n"
   ]
  }
 ],
 "metadata": {
  "kernelspec": {
   "display_name": "Python 3",
   "language": "python",
   "name": "python3"
  },
  "language_info": {
   "codemirror_mode": {
    "name": "ipython",
    "version": 3
   },
   "file_extension": ".py",
   "mimetype": "text/x-python",
   "name": "python",
   "nbconvert_exporter": "python",
   "pygments_lexer": "ipython3",
   "version": "3.7.3"
  }
 },
 "nbformat": 4,
 "nbformat_minor": 2
}
